mu, sigma = 100, 25
alpha = [0.5, 0.8, 0.99]
inv = norm.ppf(alpha, mu sigma)
