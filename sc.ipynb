{
  "nbformat": 4,
  "nbformat_minor": 0,
  "metadata": {
    "colab": {
      "provenance": [],
      "authorship_tag": "ABX9TyOhZDS+j3Tr9RU/HiNUejzB",
      "include_colab_link": true
    },
    "kernelspec": {
      "name": "python3",
      "display_name": "Python 3"
    },
    "language_info": {
      "name": "python"
    }
  },
  "cells": [
    {
      "cell_type": "markdown",
      "metadata": {
        "id": "view-in-github",
        "colab_type": "text"
      },
      "source": [
        "<a href=\"https://colab.research.google.com/github/bhanu-sisodia/supplychain/blob/main/sc.ipynb\" target=\"_parent\"><img src=\"https://colab.research.google.com/assets/colab-badge.svg\" alt=\"Open In Colab\"/></a>"
      ]
    },
    {
      "cell_type": "code",
      "execution_count": 1,
      "metadata": {
        "id": "mArJqaT_-CpC"
      },
      "outputs": [],
      "source": [
        "from scipy.stats import norm\n",
        "\n",
        "mu, sigma = 100, 25\n",
        "alpha = [0.5, 0.8, 0.99]\n",
        "inv = norm.ppf(alpha, mu, sigma)"
      ]
    }
  ]
}